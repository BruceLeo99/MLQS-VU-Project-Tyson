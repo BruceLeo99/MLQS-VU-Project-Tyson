{
 "cells": [
  {
   "cell_type": "markdown",
   "id": "503909e8-b9ab-4276-ba31-54444e025a3f",
   "metadata": {},
   "source": [
    "# RNN\n",
    "This notebook contains scraches of RNNs"
   ]
  },
  {
   "cell_type": "markdown",
   "id": "8c3ae70e-bc2a-4edc-b5ad-627c33556311",
   "metadata": {},
   "source": [
    "# Load Data"
   ]
  },
  {
   "cell_type": "code",
   "execution_count": 1,
   "id": "71bfb384-23c5-45f2-80db-e0813133a688",
   "metadata": {},
   "outputs": [
    {
     "name": "stdout",
     "output_type": "stream",
     "text": [
      "  _________________________________\n",
      "| Feed me some grass! Ik heb honger |\n",
      "  =================================\n",
      "                                 \\\n",
      "                                  \\\n",
      "                                    ^__^\n",
      "                                    (oo)\\_______\n",
      "                                    (__)\\       )\\/\\\n",
      "                                        ||----w |\n",
      "                                        ||     ||\n"
     ]
    }
   ],
   "source": [
    "import utils"
   ]
  },
  {
   "cell_type": "code",
   "execution_count": 2,
   "id": "9d7f6058-e2de-4da2-9076-2c23b8b1d602",
   "metadata": {},
   "outputs": [],
   "source": [
    "import pandas as pd\n",
    "import seaborn as sns\n",
    "import matplotlib.pyplot as plt\n",
    "import numpy as np\n",
    "import os"
   ]
  },
  {
   "cell_type": "code",
   "execution_count": 3,
   "id": "aa6a6a5f-c2c0-4296-ba34-66440bdf4aff",
   "metadata": {},
   "outputs": [
    {
     "name": "stdout",
     "output_type": "stream",
     "text": [
      "WARNING:tensorflow:From C:\\Users\\yixin\\Desktop\\Workspace\\python venv\\MLQS-venu\\lib\\site-packages\\keras\\src\\losses.py:2976: The name tf.losses.sparse_softmax_cross_entropy is deprecated. Please use tf.compat.v1.losses.sparse_softmax_cross_entropy instead.\n",
      "\n"
     ]
    }
   ],
   "source": [
    "import tensorflow as tf\n",
    "from tensorflow.keras.models import Sequential\n",
    "from tensorflow.keras.layers import SimpleRNN, LSTM, Dense, Dropout\n",
    "from sklearn.preprocessing import MinMaxScaler, OneHotEncoder\n",
    "from sklearn.model_selection import train_test_split\n",
    "from sklearn.metrics import accuracy_score\n",
    "from tensorflow.keras.callbacks import EarlyStopping"
   ]
  },
  {
   "cell_type": "code",
   "execution_count": 4,
   "id": "ec441dca-6669-4fae-b990-f9239f0e2938",
   "metadata": {},
   "outputs": [],
   "source": [
    "dirpath_left_nopunch = \"Data/Raw Data/Preliminary/Preliminary Left No Punch/\"\n",
    "dirpath_right_nopunch = \"Data/Raw Data/Preliminary/Preliminary Right No Punch/\"\n",
    "dirpath_jab = \"Data/Raw Data/Preliminary/Preliminary Jab/\"\n",
    "dirpath_cross = \"Data/Raw Data/Preliminary/Preliminary Cross/\"\n",
    "dirpath_lh = \"Data/Raw Data/Preliminary/Preliminary Lead Hook\"\n",
    "dirpath_rh = \"Data/Raw Data/Preliminary/Preliminary Rear Hook/\"\n",
    "dirpath_lu = \"Data/Raw Data/Preliminary/Preliminary Lead Uppercut/\"\n",
    "dirpath_ru = \"Data/Raw Data/Preliminary/Preliminary Rear Uppercut/\"\n",
    "\n",
    "dirpath_savefig = \"Figures/\""
   ]
  },
  {
   "cell_type": "code",
   "execution_count": 5,
   "id": "241aff8d-0b5f-48f4-87d1-1fbe8e594a68",
   "metadata": {},
   "outputs": [],
   "source": [
    "dirpath_left_nopunch = \"Data/Raw Data/Preliminary/Preliminary Left No Punch/\"\n",
    "dirpath_right_nopunch = \"Data/Raw Data/Preliminary/Preliminary Right No Punch/\"\n",
    "dirpath_jab = \"Data/Raw Data/Preliminary/Preliminary Jab/\"\n",
    "dirpath_cross = \"Data/Raw Data/Preliminary/Preliminary Cross/\"\n",
    "dirpath_lh = \"Data/Raw Data/Preliminary/Preliminary Lead Hook\"\n",
    "dirpath_rh = \"Data/Raw Data/Preliminary/Preliminary Rear Hook/\"\n",
    "dirpath_lu = \"Data/Raw Data/Preliminary/Preliminary Lead Uppercut/\"\n",
    "dirpath_ru = \"Data/Raw Data/Preliminary/Preliminary Rear Uppercut/\"\n",
    "\n",
    "dirpath_savefig = \"Figures/\""
   ]
  },
  {
   "cell_type": "code",
   "execution_count": 6,
   "id": "3a8fcfda-3f97-4621-8bbf-8c88b784e2f5",
   "metadata": {},
   "outputs": [],
   "source": [
    "# Left hand data without punch\n",
    "pre_lft_nopunch_acc = pd.read_csv(os.path.join(dirpath_left_nopunch,\"Accelerometer.csv\"))\n",
    "pre_lft_nopunch_gyr = pd.read_csv(os.path.join(dirpath_left_nopunch,\"Gyroscope.csv\"))\n",
    "pre_lft_nopunch_bar = pd.read_csv(os.path.join(dirpath_left_nopunch,\"Barometer.csv\"))\n",
    "\n",
    "# Right hand data without punch\n",
    "pre_rght_nopunch_acc = pd.read_csv(os.path.join(dirpath_right_nopunch,\"Accelerometer.csv\"))\n",
    "pre_rght_nopunch_gyr = pd.read_csv(os.path.join(dirpath_right_nopunch,\"Gyroscope.csv\"))\n",
    "pre_rght_nopunch_bar = pd.read_csv(os.path.join(dirpath_right_nopunch,\"Barometer.csv\"))\n",
    "\n",
    "# Jab data\n",
    "pre_jab_acc = pd.read_csv(os.path.join(dirpath_jab,\"Accelerometer.csv\"))\n",
    "pre_jab_gyr = pd.read_csv(os.path.join(dirpath_jab,\"Gyroscope.csv\"))\n",
    "pre_jab_bar = pd.read_csv(os.path.join(dirpath_jab,\"Barometer.csv\"))\n",
    "\n",
    "# Cross data\n",
    "pre_cross_acc = pd.read_csv(os.path.join(dirpath_cross,\"Accelerometer.csv\"))\n",
    "pre_cross_gyr = pd.read_csv(os.path.join(dirpath_cross,\"Gyroscope.csv\"))\n",
    "pre_cross_bar = pd.read_csv(os.path.join(dirpath_cross,\"Barometer.csv\"))\n",
    "\n",
    "# Lead Hook data\n",
    "pre_lh_acc = pd.read_csv(os.path.join(dirpath_lh,\"Accelerometer.csv\"))\n",
    "pre_lh_gyr = pd.read_csv(os.path.join(dirpath_lh,\"Gyroscope.csv\"))\n",
    "pre_lh_bar = pd.read_csv(os.path.join(dirpath_lh,\"Barometer.csv\"))\n",
    "\n",
    "# Rear Hook data\n",
    "pre_rh_acc = pd.read_csv(os.path.join(dirpath_rh,\"Accelerometer.csv\"))\n",
    "pre_rh_gyr = pd.read_csv(os.path.join(dirpath_rh,\"Gyroscope.csv\"))\n",
    "pre_rh_bar = pd.read_csv(os.path.join(dirpath_rh,\"Barometer.csv\"))\n",
    "\n",
    "# Lead Uppercut data\n",
    "pre_lu_acc = pd.read_csv(os.path.join(dirpath_lu,\"Accelerometer.csv\"))\n",
    "pre_lu_gyr = pd.read_csv(os.path.join(dirpath_lu,\"Gyroscope.csv\"))\n",
    "pre_lu_bar = pd.read_csv(os.path.join(dirpath_lu,\"Barometer.csv\"))\n",
    "\n",
    "# Rear Uppercut data\n",
    "pre_ru_acc = pd.read_csv(os.path.join(dirpath_ru,\"Accelerometer.csv\"))\n",
    "pre_ru_gyr = pd.read_csv(os.path.join(dirpath_ru,\"Gyroscope.csv\"))\n",
    "pre_ru_bar = pd.read_csv(os.path.join(dirpath_ru,\"Barometer.csv\"))"
   ]
  },
  {
   "cell_type": "code",
   "execution_count": 7,
   "id": "42476ac7-26e1-4b2f-8007-b1b1bc7e64cb",
   "metadata": {},
   "outputs": [],
   "source": [
    "# Use dictionary to store all dataframe to simplify the preprocessing later\n",
    "dict_pre_data = {\n",
    "    \"pre_lft_nopunch_acc\" : pre_lft_nopunch_acc,\n",
    "    \"pre_lft_nopunch_gyr\" : pre_lft_nopunch_gyr,\n",
    "    \"pre_lft_nopunch_bar\" : pre_lft_nopunch_bar,\n",
    "    \"pre_rght_nopunch_acc\" : pre_rght_nopunch_acc,\n",
    "    \"pre_rght_nopunch_gyr\" : pre_rght_nopunch_gyr,\n",
    "    \"pre_rght_nopunch_bar\" : pre_rght_nopunch_bar,    \n",
    "    \"pre_jab_acc\" : pre_jab_acc,\n",
    "    \"pre_jab_gyr\" : pre_jab_gyr,\n",
    "    \"pre_jab_bar\" : pre_jab_bar,    \n",
    "    \"pre_cross_acc\" : pre_cross_acc,\n",
    "    \"pre_cross_gyr\" : pre_cross_gyr,\n",
    "    \"pre_cross_bar\" : pre_cross_bar,\n",
    "    \"pre_lh_acc\" : pre_lh_acc,\n",
    "    \"pre_lh_gyr\" : pre_lh_gyr,\n",
    "    \"pre_lh_bar\" : pre_lh_bar,\n",
    "    \"pre_rh_acc\" : pre_rh_acc,\n",
    "    \"pre_rh_gyr\" : pre_rh_gyr,\n",
    "    \"pre_rh_bar\" : pre_rh_bar,\n",
    "    \"pre_lu_acc\" : pre_lu_acc,\n",
    "    \"pre_lu_gyr\" : pre_lu_gyr,\n",
    "    \"pre_lu_bar\" : pre_lu_bar,\n",
    "    \"pre_ru_acc\" : pre_ru_acc,\n",
    "    \"pre_ru_gyr\" : pre_ru_gyr,\n",
    "    \"pre_ru_bar\" : pre_ru_bar,}"
   ]
  },
  {
   "cell_type": "code",
   "execution_count": 8,
   "id": "5b168953-7e24-4f3c-a55c-3177d4170679",
   "metadata": {},
   "outputs": [],
   "source": [
    "# Import the transformed dataset\n",
    "\n",
    "##### Change the filepaths manually according to the path on your own device if necessary.\n",
    "\n",
    "dict_transformed_df = dict()\n",
    "\n",
    "for transformed_df in os.listdir(\"Data/Preprocessed Data/\"):\n",
    "    df_name = transformed_df.replace(\".csv\", \"\").replace(\"transformed_\",\"\")\n",
    "    df_content = pd.read_csv(os.path.join(\"Data/Preprocessed Data/\",transformed_df))\n",
    "    dict_transformed_df.setdefault(df_name, df_content)"
   ]
  },
  {
   "cell_type": "markdown",
   "id": "39b68b52-1a75-4a39-9a77-ac522f865f8e",
   "metadata": {},
   "source": [
    "# Vanilla RNN\n",
    "The standard RNN. "
   ]
  },
  {
   "cell_type": "code",
   "execution_count": null,
   "id": "1719f13e-be1c-4480-9b55-cfd4c883b789",
   "metadata": {},
   "outputs": [],
   "source": []
  },
  {
   "cell_type": "code",
   "execution_count": null,
   "id": "d4019d48-30d7-4aaf-8aaa-198f7a63ac0f",
   "metadata": {},
   "outputs": [],
   "source": []
  },
  {
   "cell_type": "code",
   "execution_count": null,
   "id": "eded536b-0392-44f3-8428-1b06b2740fa0",
   "metadata": {},
   "outputs": [],
   "source": []
  },
  {
   "cell_type": "code",
   "execution_count": null,
   "id": "3e67e1ab-87f6-46e6-a1bc-f203678329cb",
   "metadata": {},
   "outputs": [],
   "source": []
  },
  {
   "cell_type": "markdown",
   "id": "e5fd5305-ba0f-4246-b197-c26d9b1ea499",
   "metadata": {},
   "source": [
    "# LSTM\n",
    "\n",
    "An optimized version of RNN that evaluates the importance of information passed to the Network by Tanh and Sigmoid function and selectively filters out the information that are considered less important. This method is famous for its ability in avoiding vanishing/exploring Gradient Problem."
   ]
  },
  {
   "cell_type": "markdown",
   "id": "6fc618fa-647c-4bb4-95bd-2cf49a468da1",
   "metadata": {},
   "source": [
    "LSTM pipeline:\n",
    "- Data Preprocessing: Standardization and Convering data into sequences of 5 datapoints. LSTM will study the pattern in these 5 sequences.\n",
    "- - e.g.: We give a sequence of 5 jabs to LSTM, LSTM will know that *On this is how Jabs look like!* And then learn to make this prediction\n",
    "- Train-test split\n",
    "- One-hot encode the label\n",
    "- Train the model\n",
    "- Evaluation"
   ]
  },
  {
   "cell_type": "markdown",
   "id": "a6ca4178-0a61-4b59-8d2b-90d139ab4a58",
   "metadata": {},
   "source": [
    "### Data Preprocessing"
   ]
  },
  {
   "cell_type": "code",
   "execution_count": 9,
   "id": "84d56e39-46c1-42f6-8644-6408c045bff0",
   "metadata": {},
   "outputs": [],
   "source": [
    "def drop_tails(df, seq_length):\n",
    "    \n",
    "    df_length = len(df) // seq_length * seq_length\n",
    "    return df.iloc[:df_length]\n",
    "\n",
    "# Convert data into sequences\n",
    "def create_sequential_data(df, sequence_length):\n",
    "    x = []\n",
    "    y = []\n",
    "    features = df.iloc[:,:-1]\n",
    "    labels = df.iloc[:,-1]\n",
    "\n",
    "    num_sequences = len(df) // sequence_length\n",
    "\n",
    "    sequence_start_idx = 0 \n",
    "    sequence_end_idx = sequence_length\n",
    "\n",
    "    while num_sequences > 0:\n",
    "        x.append(features[sequence_start_idx:sequence_end_idx])\n",
    "        y.append(labels.iloc[sequence_start_idx])\n",
    "\n",
    "        # print(num_sequences, sequence_start_idx, sequence_end_idx)\n",
    "        num_sequences -= 1\n",
    "        sequence_start_idx += sequence_length\n",
    "        sequence_end_idx += sequence_length \n",
    "\n",
    "    return np.array(x), np.array(y)"
   ]
  },
  {
   "cell_type": "code",
   "execution_count": 10,
   "id": "32210eab-911c-46bc-8d48-92b2f94d83b3",
   "metadata": {},
   "outputs": [
    {
     "data": {
      "text/html": [
       "<div>\n",
       "<style scoped>\n",
       "    .dataframe tbody tr th:only-of-type {\n",
       "        vertical-align: middle;\n",
       "    }\n",
       "\n",
       "    .dataframe tbody tr th {\n",
       "        vertical-align: top;\n",
       "    }\n",
       "\n",
       "    .dataframe thead th {\n",
       "        text-align: right;\n",
       "    }\n",
       "</style>\n",
       "<table border=\"1\" class=\"dataframe\">\n",
       "  <thead>\n",
       "    <tr style=\"text-align: right;\">\n",
       "      <th></th>\n",
       "      <th>X (m/s^2)</th>\n",
       "      <th>Y (m/s^2)</th>\n",
       "      <th>Z (m/s^2)</th>\n",
       "      <th>X (rad/s)</th>\n",
       "      <th>Y (rad/s)</th>\n",
       "      <th>Z (rad/s)</th>\n",
       "      <th>Punch Type</th>\n",
       "    </tr>\n",
       "  </thead>\n",
       "  <tbody>\n",
       "    <tr>\n",
       "      <th>0</th>\n",
       "      <td>6.137</td>\n",
       "      <td>6.095</td>\n",
       "      <td>3.791</td>\n",
       "      <td>0.206</td>\n",
       "      <td>0.902</td>\n",
       "      <td>0.285</td>\n",
       "      <td>cross</td>\n",
       "    </tr>\n",
       "    <tr>\n",
       "      <th>1</th>\n",
       "      <td>14.568</td>\n",
       "      <td>28.642</td>\n",
       "      <td>10.195</td>\n",
       "      <td>2.934</td>\n",
       "      <td>5.756</td>\n",
       "      <td>2.912</td>\n",
       "      <td>cross</td>\n",
       "    </tr>\n",
       "    <tr>\n",
       "      <th>2</th>\n",
       "      <td>12.615</td>\n",
       "      <td>22.545</td>\n",
       "      <td>10.761</td>\n",
       "      <td>2.541</td>\n",
       "      <td>7.395</td>\n",
       "      <td>2.865</td>\n",
       "      <td>cross</td>\n",
       "    </tr>\n",
       "    <tr>\n",
       "      <th>3</th>\n",
       "      <td>13.644</td>\n",
       "      <td>21.431</td>\n",
       "      <td>8.318</td>\n",
       "      <td>2.365</td>\n",
       "      <td>6.340</td>\n",
       "      <td>2.121</td>\n",
       "      <td>cross</td>\n",
       "    </tr>\n",
       "    <tr>\n",
       "      <th>4</th>\n",
       "      <td>13.778</td>\n",
       "      <td>29.763</td>\n",
       "      <td>11.123</td>\n",
       "      <td>3.318</td>\n",
       "      <td>8.487</td>\n",
       "      <td>3.265</td>\n",
       "      <td>cross</td>\n",
       "    </tr>\n",
       "    <tr>\n",
       "      <th>...</th>\n",
       "      <td>...</td>\n",
       "      <td>...</td>\n",
       "      <td>...</td>\n",
       "      <td>...</td>\n",
       "      <td>...</td>\n",
       "      <td>...</td>\n",
       "      <td>...</td>\n",
       "    </tr>\n",
       "    <tr>\n",
       "      <th>295</th>\n",
       "      <td>7.231</td>\n",
       "      <td>17.051</td>\n",
       "      <td>26.618</td>\n",
       "      <td>4.463</td>\n",
       "      <td>3.269</td>\n",
       "      <td>1.997</td>\n",
       "      <td>ru</td>\n",
       "    </tr>\n",
       "    <tr>\n",
       "      <th>296</th>\n",
       "      <td>6.853</td>\n",
       "      <td>16.481</td>\n",
       "      <td>22.919</td>\n",
       "      <td>4.591</td>\n",
       "      <td>3.069</td>\n",
       "      <td>2.327</td>\n",
       "      <td>ru</td>\n",
       "    </tr>\n",
       "    <tr>\n",
       "      <th>297</th>\n",
       "      <td>6.688</td>\n",
       "      <td>14.249</td>\n",
       "      <td>20.703</td>\n",
       "      <td>4.112</td>\n",
       "      <td>4.443</td>\n",
       "      <td>2.806</td>\n",
       "      <td>ru</td>\n",
       "    </tr>\n",
       "    <tr>\n",
       "      <th>298</th>\n",
       "      <td>5.891</td>\n",
       "      <td>11.743</td>\n",
       "      <td>19.362</td>\n",
       "      <td>2.780</td>\n",
       "      <td>4.224</td>\n",
       "      <td>2.727</td>\n",
       "      <td>ru</td>\n",
       "    </tr>\n",
       "    <tr>\n",
       "      <th>299</th>\n",
       "      <td>9.802</td>\n",
       "      <td>7.708</td>\n",
       "      <td>11.935</td>\n",
       "      <td>2.449</td>\n",
       "      <td>3.390</td>\n",
       "      <td>2.651</td>\n",
       "      <td>ru</td>\n",
       "    </tr>\n",
       "  </tbody>\n",
       "</table>\n",
       "<p>2040 rows × 7 columns</p>\n",
       "</div>"
      ],
      "text/plain": [
       "     X (m/s^2)  Y (m/s^2)  Z (m/s^2)  X (rad/s)  Y (rad/s)  Z (rad/s)  \\\n",
       "0        6.137      6.095      3.791      0.206      0.902      0.285   \n",
       "1       14.568     28.642     10.195      2.934      5.756      2.912   \n",
       "2       12.615     22.545     10.761      2.541      7.395      2.865   \n",
       "3       13.644     21.431      8.318      2.365      6.340      2.121   \n",
       "4       13.778     29.763     11.123      3.318      8.487      3.265   \n",
       "..         ...        ...        ...        ...        ...        ...   \n",
       "295      7.231     17.051     26.618      4.463      3.269      1.997   \n",
       "296      6.853     16.481     22.919      4.591      3.069      2.327   \n",
       "297      6.688     14.249     20.703      4.112      4.443      2.806   \n",
       "298      5.891     11.743     19.362      2.780      4.224      2.727   \n",
       "299      9.802      7.708     11.935      2.449      3.390      2.651   \n",
       "\n",
       "    Punch Type  \n",
       "0        cross  \n",
       "1        cross  \n",
       "2        cross  \n",
       "3        cross  \n",
       "4        cross  \n",
       "..         ...  \n",
       "295         ru  \n",
       "296         ru  \n",
       "297         ru  \n",
       "298         ru  \n",
       "299         ru  \n",
       "\n",
       "[2040 rows x 7 columns]"
      ]
     },
     "execution_count": 10,
     "metadata": {},
     "output_type": "execute_result"
    }
   ],
   "source": [
    "df_whole = pd.concat([drop_tails(df, 5) for df in dict_transformed_df.values()], axis=0)\n",
    "df_whole = df_whole.drop(columns='X (hPa)')\n",
    "df_whole"
   ]
  },
  {
   "cell_type": "code",
   "execution_count": 11,
   "id": "4dfb9907-ff4b-4df6-9da4-b23d980ee35f",
   "metadata": {},
   "outputs": [],
   "source": [
    "seq_data, seq_label = create_sequential_data(df_whole, 5)"
   ]
  },
  {
   "cell_type": "code",
   "execution_count": 12,
   "id": "05f97912-7ea9-456c-a355-bf0265e30956",
   "metadata": {},
   "outputs": [],
   "source": [
    "# Encode the label\n",
    "label_encoder = OneHotEncoder(sparse_output=False)\n",
    "\n",
    "seq_label = label_encoder.fit_transform(seq_label.reshape(-1,1))"
   ]
  },
  {
   "cell_type": "code",
   "execution_count": 13,
   "id": "5f1fe8e2-c94d-4406-9636-63ce34905510",
   "metadata": {},
   "outputs": [
    {
     "data": {
      "text/plain": [
       "(306, 8)"
      ]
     },
     "execution_count": 13,
     "metadata": {},
     "output_type": "execute_result"
    }
   ],
   "source": [
    "# Perform train test split and normalize the training dataset\n",
    "x_train, x_test, y_train, y_test = train_test_split(seq_data, seq_label, test_size=0.25, random_state=50)\n",
    "\n",
    "# scaler = MinMaxScaler()\n",
    "# x_train = scaler.fit_transform(x_train.reshape(-1,1))\n",
    "# x_test = scaler.fit_transform(x_test.reshape(-1,1))\n",
    "\n",
    "y_train.shape"
   ]
  },
  {
   "cell_type": "markdown",
   "id": "3dd081fa-a8f3-4d2e-ac52-95e9b056870a",
   "metadata": {},
   "source": [
    "### Construct the model"
   ]
  },
  {
   "cell_type": "code",
   "execution_count": 17,
   "id": "33cfd344-2a6b-4829-9b04-32332094d299",
   "metadata": {},
   "outputs": [],
   "source": [
    "lstm_model = Sequential()\n",
    "\n",
    "lstm_model.add(LSTM(units=8, input_shape=(x_train.shape[1], x_train.shape[2])))\n",
    "\n",
    "lstm_model.add(Dropout(0.5))\n",
    "\n",
    "lstm_model.add(Dense(y_train.shape[1], activation='softmax'))\n",
    "\n",
    "# Define Early Stopping callback\n",
    "early_stopping = EarlyStopping(monitor='val_loss', patience=5, restore_best_weights=True)\n",
    "\n",
    "lstm_model.compile(optimizer='adam', loss='categorical_crossentropy', metrics=['accuracy'])"
   ]
  },
  {
   "cell_type": "code",
   "execution_count": 18,
   "id": "a50fdda3-3582-41f0-a8ec-05e2a89573e8",
   "metadata": {},
   "outputs": [
    {
     "name": "stdout",
     "output_type": "stream",
     "text": [
      "Model: \"sequential_1\"\n",
      "_________________________________________________________________\n",
      " Layer (type)                Output Shape              Param #   \n",
      "=================================================================\n",
      " lstm_1 (LSTM)               (None, 8)                 480       \n",
      "                                                                 \n",
      " dropout_1 (Dropout)         (None, 8)                 0         \n",
      "                                                                 \n",
      " dense_1 (Dense)             (None, 8)                 72        \n",
      "                                                                 \n",
      "=================================================================\n",
      "Total params: 552 (2.16 KB)\n",
      "Trainable params: 552 (2.16 KB)\n",
      "Non-trainable params: 0 (0.00 Byte)\n",
      "_________________________________________________________________\n"
     ]
    }
   ],
   "source": [
    "lstm_model.summary()"
   ]
  },
  {
   "cell_type": "code",
   "execution_count": 19,
   "id": "4443ec78-af3f-46b1-ab50-5fdf466e2a62",
   "metadata": {
    "scrolled": true
   },
   "outputs": [
    {
     "name": "stdout",
     "output_type": "stream",
     "text": [
      "Epoch 1/40\n",
      "WARNING:tensorflow:From C:\\Users\\yixin\\Desktop\\Workspace\\python venv\\MLQS-venu\\lib\\site-packages\\keras\\src\\utils\\tf_utils.py:492: The name tf.ragged.RaggedTensorValue is deprecated. Please use tf.compat.v1.ragged.RaggedTensorValue instead.\n",
      "\n",
      "WARNING:tensorflow:From C:\\Users\\yixin\\Desktop\\Workspace\\python venv\\MLQS-venu\\lib\\site-packages\\keras\\src\\engine\\base_layer_utils.py:384: The name tf.executing_eagerly_outside_functions is deprecated. Please use tf.compat.v1.executing_eagerly_outside_functions instead.\n",
      "\n",
      "49/49 [==============================] - 2s 10ms/step - loss: 2.1175 - accuracy: 0.1680 - val_loss: 2.0502 - val_accuracy: 0.2742\n",
      "Epoch 2/40\n",
      "49/49 [==============================] - 0s 3ms/step - loss: 2.0416 - accuracy: 0.2213 - val_loss: 1.9753 - val_accuracy: 0.3065\n",
      "Epoch 3/40\n",
      "49/49 [==============================] - 0s 3ms/step - loss: 1.9869 - accuracy: 0.2500 - val_loss: 1.9151 - val_accuracy: 0.3226\n",
      "Epoch 4/40\n",
      "49/49 [==============================] - 0s 3ms/step - loss: 1.8650 - accuracy: 0.2705 - val_loss: 1.8382 - val_accuracy: 0.4032\n",
      "Epoch 5/40\n",
      "49/49 [==============================] - 0s 3ms/step - loss: 1.8012 - accuracy: 0.3320 - val_loss: 1.7512 - val_accuracy: 0.3065\n",
      "Epoch 6/40\n",
      "49/49 [==============================] - 0s 3ms/step - loss: 1.6827 - accuracy: 0.3525 - val_loss: 1.6296 - val_accuracy: 0.3065\n",
      "Epoch 7/40\n",
      "49/49 [==============================] - 0s 3ms/step - loss: 1.6075 - accuracy: 0.3484 - val_loss: 1.5456 - val_accuracy: 0.3387\n",
      "Epoch 8/40\n",
      "49/49 [==============================] - 0s 2ms/step - loss: 1.5716 - accuracy: 0.3648 - val_loss: 1.4970 - val_accuracy: 0.3710\n",
      "Epoch 9/40\n",
      "49/49 [==============================] - 0s 2ms/step - loss: 1.5316 - accuracy: 0.3934 - val_loss: 1.4369 - val_accuracy: 0.4032\n",
      "Epoch 10/40\n",
      "49/49 [==============================] - 0s 2ms/step - loss: 1.4756 - accuracy: 0.4467 - val_loss: 1.4265 - val_accuracy: 0.3548\n",
      "Epoch 11/40\n",
      "49/49 [==============================] - 0s 2ms/step - loss: 1.3732 - accuracy: 0.4344 - val_loss: 1.3144 - val_accuracy: 0.4516\n",
      "Epoch 12/40\n",
      "49/49 [==============================] - 0s 3ms/step - loss: 1.3225 - accuracy: 0.4795 - val_loss: 1.2417 - val_accuracy: 0.4839\n",
      "Epoch 13/40\n",
      "49/49 [==============================] - 0s 3ms/step - loss: 1.2959 - accuracy: 0.4836 - val_loss: 1.1814 - val_accuracy: 0.5161\n",
      "Epoch 14/40\n",
      "49/49 [==============================] - 0s 4ms/step - loss: 1.1966 - accuracy: 0.5451 - val_loss: 1.1284 - val_accuracy: 0.5806\n",
      "Epoch 15/40\n",
      "49/49 [==============================] - 0s 3ms/step - loss: 1.2361 - accuracy: 0.4959 - val_loss: 1.1149 - val_accuracy: 0.5806\n",
      "Epoch 16/40\n",
      "49/49 [==============================] - 0s 3ms/step - loss: 1.2605 - accuracy: 0.4754 - val_loss: 1.0685 - val_accuracy: 0.6613\n",
      "Epoch 17/40\n",
      "49/49 [==============================] - 0s 3ms/step - loss: 1.2045 - accuracy: 0.5041 - val_loss: 1.0665 - val_accuracy: 0.6452\n",
      "Epoch 18/40\n",
      "49/49 [==============================] - 0s 3ms/step - loss: 1.1195 - accuracy: 0.5861 - val_loss: 1.0355 - val_accuracy: 0.5968\n",
      "Epoch 19/40\n",
      "49/49 [==============================] - 0s 3ms/step - loss: 1.1289 - accuracy: 0.5820 - val_loss: 1.0210 - val_accuracy: 0.6613\n",
      "Epoch 20/40\n",
      "49/49 [==============================] - 0s 3ms/step - loss: 1.1406 - accuracy: 0.4918 - val_loss: 0.9983 - val_accuracy: 0.6935\n",
      "Epoch 21/40\n",
      "49/49 [==============================] - 0s 3ms/step - loss: 1.0781 - accuracy: 0.5820 - val_loss: 0.9770 - val_accuracy: 0.6452\n",
      "Epoch 22/40\n",
      "49/49 [==============================] - 0s 3ms/step - loss: 1.0704 - accuracy: 0.5902 - val_loss: 0.9541 - val_accuracy: 0.6452\n",
      "Epoch 23/40\n",
      "49/49 [==============================] - 0s 2ms/step - loss: 1.0330 - accuracy: 0.5902 - val_loss: 0.9693 - val_accuracy: 0.6129\n",
      "Epoch 24/40\n",
      "49/49 [==============================] - 0s 3ms/step - loss: 1.0891 - accuracy: 0.5369 - val_loss: 0.9251 - val_accuracy: 0.6290\n",
      "Epoch 25/40\n",
      "49/49 [==============================] - 0s 3ms/step - loss: 1.0336 - accuracy: 0.5861 - val_loss: 0.9405 - val_accuracy: 0.5968\n",
      "Epoch 26/40\n",
      "49/49 [==============================] - 0s 3ms/step - loss: 1.0135 - accuracy: 0.5779 - val_loss: 0.8975 - val_accuracy: 0.6935\n",
      "Epoch 27/40\n",
      "49/49 [==============================] - 0s 3ms/step - loss: 0.9815 - accuracy: 0.6066 - val_loss: 0.9009 - val_accuracy: 0.7419\n",
      "Epoch 28/40\n",
      "49/49 [==============================] - 0s 3ms/step - loss: 0.9897 - accuracy: 0.6148 - val_loss: 0.9569 - val_accuracy: 0.5484\n",
      "Epoch 29/40\n",
      "49/49 [==============================] - 0s 3ms/step - loss: 0.9980 - accuracy: 0.5820 - val_loss: 0.8952 - val_accuracy: 0.6774\n",
      "Epoch 30/40\n",
      "49/49 [==============================] - 0s 3ms/step - loss: 0.9893 - accuracy: 0.6025 - val_loss: 0.8605 - val_accuracy: 0.6613\n",
      "Epoch 31/40\n",
      "49/49 [==============================] - 0s 3ms/step - loss: 1.0040 - accuracy: 0.6066 - val_loss: 0.8634 - val_accuracy: 0.6774\n",
      "Epoch 32/40\n",
      "49/49 [==============================] - 0s 3ms/step - loss: 0.9964 - accuracy: 0.5820 - val_loss: 0.8497 - val_accuracy: 0.6613\n",
      "Epoch 33/40\n",
      "49/49 [==============================] - 0s 3ms/step - loss: 0.9787 - accuracy: 0.6189 - val_loss: 0.8712 - val_accuracy: 0.6452\n",
      "Epoch 34/40\n",
      "49/49 [==============================] - 0s 3ms/step - loss: 0.9656 - accuracy: 0.5943 - val_loss: 0.8167 - val_accuracy: 0.6935\n",
      "Epoch 35/40\n",
      "49/49 [==============================] - 0s 3ms/step - loss: 0.9745 - accuracy: 0.5779 - val_loss: 0.8353 - val_accuracy: 0.6452\n",
      "Epoch 36/40\n",
      "49/49 [==============================] - 0s 3ms/step - loss: 0.9438 - accuracy: 0.6189 - val_loss: 0.8155 - val_accuracy: 0.6935\n",
      "Epoch 37/40\n",
      "49/49 [==============================] - 0s 3ms/step - loss: 0.9186 - accuracy: 0.6025 - val_loss: 0.8302 - val_accuracy: 0.7097\n",
      "Epoch 38/40\n",
      "49/49 [==============================] - 0s 3ms/step - loss: 0.8862 - accuracy: 0.6557 - val_loss: 0.7838 - val_accuracy: 0.6935\n",
      "Epoch 39/40\n",
      "49/49 [==============================] - 0s 2ms/step - loss: 0.9273 - accuracy: 0.6434 - val_loss: 0.7917 - val_accuracy: 0.6774\n",
      "Epoch 40/40\n",
      "49/49 [==============================] - 0s 2ms/step - loss: 0.8604 - accuracy: 0.7172 - val_loss: 0.7851 - val_accuracy: 0.7097\n"
     ]
    }
   ],
   "source": [
    "history = lstm_model.fit(x_train, y_train, epochs=40, batch_size=5, validation_split=0.2, callbacks=[early_stopping])"
   ]
  },
  {
   "cell_type": "code",
   "execution_count": 20,
   "id": "ff9cff8c-1b29-49cb-ab31-3712c4bab149",
   "metadata": {},
   "outputs": [
    {
     "name": "stdout",
     "output_type": "stream",
     "text": [
      "4/4 [==============================] - 0s 2ms/step - loss: 0.7630 - accuracy: 0.7255\n",
      "Test Accuracy: 0.7255\n"
     ]
    }
   ],
   "source": [
    "# Assuming x_test and y_test are your unseen test data\n",
    "test_loss, test_accuracy = lstm_model.evaluate(x_test, y_test)\n",
    "print(f\"Test Accuracy: {test_accuracy:.4f}\")"
   ]
  },
  {
   "cell_type": "code",
   "execution_count": 21,
   "id": "97423727-ccf2-47b9-a2d8-f4c38cc681cb",
   "metadata": {},
   "outputs": [
    {
     "name": "stdout",
     "output_type": "stream",
     "text": [
      "4/4 [==============================] - 0s 2ms/step\n",
      "Confusion Matrix:\n",
      "[[15  3  0  1  0  0  0  0]\n",
      " [ 4 15  0  0  0  0  0  0]\n",
      " [ 0  0  0  1  0  0  5  0]\n",
      " [ 0  0  0 15  0  0  2  0]\n",
      " [ 0  0  0  0  9  0  0  5]\n",
      " [ 0  0  0  3  0  1  0  0]\n",
      " [ 0  0  0  0  0  0 11  0]\n",
      " [ 0  0  0  0  3  0  1  8]]\n",
      "\n",
      "Classification Report:\n",
      "              precision    recall  f1-score   support\n",
      "\n",
      "           0       0.79      0.79      0.79        19\n",
      "           1       0.83      0.79      0.81        19\n",
      "           2       0.00      0.00      0.00         6\n",
      "           3       0.75      0.88      0.81        17\n",
      "           4       0.75      0.64      0.69        14\n",
      "           5       1.00      0.25      0.40         4\n",
      "           6       0.58      1.00      0.73        11\n",
      "           7       0.62      0.67      0.64        12\n",
      "\n",
      "    accuracy                           0.73       102\n",
      "   macro avg       0.66      0.63      0.61       102\n",
      "weighted avg       0.70      0.73      0.70       102\n",
      "\n"
     ]
    },
    {
     "name": "stderr",
     "output_type": "stream",
     "text": [
      "C:\\Users\\yixin\\Desktop\\Workspace\\python venv\\MLQS-venu\\lib\\site-packages\\sklearn\\metrics\\_classification.py:1517: UndefinedMetricWarning: Precision is ill-defined and being set to 0.0 in labels with no predicted samples. Use `zero_division` parameter to control this behavior.\n",
      "  _warn_prf(average, modifier, f\"{metric.capitalize()} is\", len(result))\n",
      "C:\\Users\\yixin\\Desktop\\Workspace\\python venv\\MLQS-venu\\lib\\site-packages\\sklearn\\metrics\\_classification.py:1517: UndefinedMetricWarning: Precision is ill-defined and being set to 0.0 in labels with no predicted samples. Use `zero_division` parameter to control this behavior.\n",
      "  _warn_prf(average, modifier, f\"{metric.capitalize()} is\", len(result))\n",
      "C:\\Users\\yixin\\Desktop\\Workspace\\python venv\\MLQS-venu\\lib\\site-packages\\sklearn\\metrics\\_classification.py:1517: UndefinedMetricWarning: Precision is ill-defined and being set to 0.0 in labels with no predicted samples. Use `zero_division` parameter to control this behavior.\n",
      "  _warn_prf(average, modifier, f\"{metric.capitalize()} is\", len(result))\n"
     ]
    }
   ],
   "source": [
    "from sklearn.metrics import confusion_matrix, classification_report\n",
    "\n",
    "# Predictions on test data\n",
    "y_pred = lstm_model.predict(x_test)\n",
    "# Convert predicted probabilities to class labels\n",
    "y_pred_classes = np.argmax(y_pred, axis=1)\n",
    "# Convert one-hot encoded true labels to class labels\n",
    "y_true_classes = np.argmax(y_test, axis=1)\n",
    "\n",
    "# Confusion matrix\n",
    "cm = confusion_matrix(y_true_classes, y_pred_classes)\n",
    "print(\"Confusion Matrix:\")\n",
    "print(cm)\n",
    "\n",
    "# Classification report\n",
    "print(\"\\nClassification Report:\")\n",
    "print(classification_report(y_true_classes, y_pred_classes))\n"
   ]
  },
  {
   "cell_type": "code",
   "execution_count": null,
   "id": "cfeb7dc9-0840-45be-9e14-b2a9f1d9fec5",
   "metadata": {},
   "outputs": [],
   "source": []
  }
 ],
 "metadata": {
  "kernelspec": {
   "display_name": "Python 3 (ipykernel)",
   "language": "python",
   "name": "python3"
  },
  "language_info": {
   "codemirror_mode": {
    "name": "ipython",
    "version": 3
   },
   "file_extension": ".py",
   "mimetype": "text/x-python",
   "name": "python",
   "nbconvert_exporter": "python",
   "pygments_lexer": "ipython3",
   "version": "3.10.6"
  }
 },
 "nbformat": 4,
 "nbformat_minor": 5
}
