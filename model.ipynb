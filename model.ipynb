{
 "cells": [
  {
   "cell_type": "markdown",
   "metadata": {},
   "source": [
    "# Trying out Classical Machine Learning methods to analyze the data\n",
    "\n",
    "In this notebook. We visualize the different model performances. The models included are random forests, k-means clustering and baseline models"
   ]
  }
 ],
 "metadata": {
  "language_info": {
   "name": "python"
  }
 },
 "nbformat": 4,
 "nbformat_minor": 2
}
